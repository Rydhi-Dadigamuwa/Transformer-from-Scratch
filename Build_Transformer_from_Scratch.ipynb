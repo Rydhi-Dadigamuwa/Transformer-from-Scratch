{
  "cells": [
    {
      "cell_type": "code",
      "execution_count": 1,
      "metadata": {
        "id": "23PNw4C8mu5M"
      },
      "outputs": [],
      "source": [
        "import numpy as np\n",
        "import pandas as pd\n",
        "import tensorflow as tf\n",
        "from tensorflow.keras import layers, Model"
      ]
    },
    {
      "cell_type": "code",
      "execution_count": 2,
      "metadata": {
        "id": "X2F5j703QUSm"
      },
      "outputs": [],
      "source": [
        "df = pd.read_csv(r\"C:\\Users\\ASUS\\Downloads\\IMDB Dataset.csv\\IMDB Dataset.csv\")"
      ]
    },
    {
      "cell_type": "code",
      "execution_count": 3,
      "metadata": {
        "colab": {
          "base_uri": "https://localhost:8080/",
          "height": 206
        },
        "id": "zrZpUcXwQ6Is",
        "outputId": "1134e02d-6d03-44a6-dc4c-92cf146aa319"
      },
      "outputs": [
        {
          "data": {
            "application/vnd.microsoft.datawrangler.viewer.v0+json": {
              "columns": [
                {
                  "name": "index",
                  "rawType": "int64",
                  "type": "integer"
                },
                {
                  "name": "review",
                  "rawType": "object",
                  "type": "string"
                },
                {
                  "name": "sentiment",
                  "rawType": "object",
                  "type": "string"
                }
              ],
              "ref": "c7db05cf-ab69-4066-b85a-9b065d6627d2",
              "rows": [
                [
                  "0",
                  "One of the other reviewers has mentioned that after watching just 1 Oz episode you'll be hooked. They are right, as this is exactly what happened with me.<br /><br />The first thing that struck me about Oz was its brutality and unflinching scenes of violence, which set in right from the word GO. Trust me, this is not a show for the faint hearted or timid. This show pulls no punches with regards to drugs, sex or violence. Its is hardcore, in the classic use of the word.<br /><br />It is called OZ as that is the nickname given to the Oswald Maximum Security State Penitentary. It focuses mainly on Emerald City, an experimental section of the prison where all the cells have glass fronts and face inwards, so privacy is not high on the agenda. Em City is home to many..Aryans, Muslims, gangstas, Latinos, Christians, Italians, Irish and more....so scuffles, death stares, dodgy dealings and shady agreements are never far away.<br /><br />I would say the main appeal of the show is due to the fact that it goes where other shows wouldn't dare. Forget pretty pictures painted for mainstream audiences, forget charm, forget romance...OZ doesn't mess around. The first episode I ever saw struck me as so nasty it was surreal, I couldn't say I was ready for it, but as I watched more, I developed a taste for Oz, and got accustomed to the high levels of graphic violence. Not just violence, but injustice (crooked guards who'll be sold out for a nickel, inmates who'll kill on order and get away with it, well mannered, middle class inmates being turned into prison bitches due to their lack of street skills or prison experience) Watching Oz, you may become comfortable with what is uncomfortable viewing....thats if you can get in touch with your darker side.",
                  "positive"
                ],
                [
                  "1",
                  "A wonderful little production. <br /><br />The filming technique is very unassuming- very old-time-BBC fashion and gives a comforting, and sometimes discomforting, sense of realism to the entire piece. <br /><br />The actors are extremely well chosen- Michael Sheen not only \"has got all the polari\" but he has all the voices down pat too! You can truly see the seamless editing guided by the references to Williams' diary entries, not only is it well worth the watching but it is a terrificly written and performed piece. A masterful production about one of the great master's of comedy and his life. <br /><br />The realism really comes home with the little things: the fantasy of the guard which, rather than use the traditional 'dream' techniques remains solid then disappears. It plays on our knowledge and our senses, particularly with the scenes concerning Orton and Halliwell and the sets (particularly of their flat with Halliwell's murals decorating every surface) are terribly well done.",
                  "positive"
                ],
                [
                  "2",
                  "I thought this was a wonderful way to spend time on a too hot summer weekend, sitting in the air conditioned theater and watching a light-hearted comedy. The plot is simplistic, but the dialogue is witty and the characters are likable (even the well bread suspected serial killer). While some may be disappointed when they realize this is not Match Point 2: Risk Addiction, I thought it was proof that Woody Allen is still fully in control of the style many of us have grown to love.<br /><br />This was the most I'd laughed at one of Woody's comedies in years (dare I say a decade?). While I've never been impressed with Scarlet Johanson, in this she managed to tone down her \"sexy\" image and jumped right into a average, but spirited young woman.<br /><br />This may not be the crown jewel of his career, but it was wittier than \"Devil Wears Prada\" and more interesting than \"Superman\" a great comedy to go see with friends.",
                  "positive"
                ],
                [
                  "3",
                  "Basically there's a family where a little boy (Jake) thinks there's a zombie in his closet & his parents are fighting all the time.<br /><br />This movie is slower than a soap opera... and suddenly, Jake decides to become Rambo and kill the zombie.<br /><br />OK, first of all when you're going to make a film you must Decide if its a thriller or a drama! As a drama the movie is watchable. Parents are divorcing & arguing like in real life. And then we have Jake with his closet which totally ruins all the film! I expected to see a BOOGEYMAN similar movie, and instead i watched a drama with some meaningless thriller spots.<br /><br />3 out of 10 just for the well playing parents & descent dialogs. As for the shots with Jake: just ignore them.",
                  "negative"
                ],
                [
                  "4",
                  "Petter Mattei's \"Love in the Time of Money\" is a visually stunning film to watch. Mr. Mattei offers us a vivid portrait about human relations. This is a movie that seems to be telling us what money, power and success do to people in the different situations we encounter. <br /><br />This being a variation on the Arthur Schnitzler's play about the same theme, the director transfers the action to the present time New York where all these different characters meet and connect. Each one is connected in one way, or another to the next person, but no one seems to know the previous point of contact. Stylishly, the film has a sophisticated luxurious look. We are taken to see how these people live and the world they live in their own habitat.<br /><br />The only thing one gets out of all these souls in the picture is the different stages of loneliness each one inhabits. A big city is not exactly the best place in which human relations find sincere fulfillment, as one discerns is the case with most of the people we encounter.<br /><br />The acting is good under Mr. Mattei's direction. Steve Buscemi, Rosario Dawson, Carol Kane, Michael Imperioli, Adrian Grenier, and the rest of the talented cast, make these characters come alive.<br /><br />We wish Mr. Mattei good luck and await anxiously for his next work.",
                  "positive"
                ]
              ],
              "shape": {
                "columns": 2,
                "rows": 5
              }
            },
            "text/html": [
              "<div>\n",
              "<style scoped>\n",
              "    .dataframe tbody tr th:only-of-type {\n",
              "        vertical-align: middle;\n",
              "    }\n",
              "\n",
              "    .dataframe tbody tr th {\n",
              "        vertical-align: top;\n",
              "    }\n",
              "\n",
              "    .dataframe thead th {\n",
              "        text-align: right;\n",
              "    }\n",
              "</style>\n",
              "<table border=\"1\" class=\"dataframe\">\n",
              "  <thead>\n",
              "    <tr style=\"text-align: right;\">\n",
              "      <th></th>\n",
              "      <th>review</th>\n",
              "      <th>sentiment</th>\n",
              "    </tr>\n",
              "  </thead>\n",
              "  <tbody>\n",
              "    <tr>\n",
              "      <th>0</th>\n",
              "      <td>One of the other reviewers has mentioned that ...</td>\n",
              "      <td>positive</td>\n",
              "    </tr>\n",
              "    <tr>\n",
              "      <th>1</th>\n",
              "      <td>A wonderful little production. &lt;br /&gt;&lt;br /&gt;The...</td>\n",
              "      <td>positive</td>\n",
              "    </tr>\n",
              "    <tr>\n",
              "      <th>2</th>\n",
              "      <td>I thought this was a wonderful way to spend ti...</td>\n",
              "      <td>positive</td>\n",
              "    </tr>\n",
              "    <tr>\n",
              "      <th>3</th>\n",
              "      <td>Basically there's a family where a little boy ...</td>\n",
              "      <td>negative</td>\n",
              "    </tr>\n",
              "    <tr>\n",
              "      <th>4</th>\n",
              "      <td>Petter Mattei's \"Love in the Time of Money\" is...</td>\n",
              "      <td>positive</td>\n",
              "    </tr>\n",
              "  </tbody>\n",
              "</table>\n",
              "</div>"
            ],
            "text/plain": [
              "                                              review sentiment\n",
              "0  One of the other reviewers has mentioned that ...  positive\n",
              "1  A wonderful little production. <br /><br />The...  positive\n",
              "2  I thought this was a wonderful way to spend ti...  positive\n",
              "3  Basically there's a family where a little boy ...  negative\n",
              "4  Petter Mattei's \"Love in the Time of Money\" is...  positive"
            ]
          },
          "execution_count": 3,
          "metadata": {},
          "output_type": "execute_result"
        }
      ],
      "source": [
        "df.head()"
      ]
    },
    {
      "cell_type": "code",
      "execution_count": 4,
      "metadata": {
        "colab": {
          "base_uri": "https://localhost:8080/"
        },
        "id": "bPBSGhflQ82N",
        "outputId": "ba9dbf29-4176-4b1e-cbb6-a334f2c7551f"
      },
      "outputs": [
        {
          "name": "stdout",
          "output_type": "stream",
          "text": [
            "                                              review sentiment  value\n",
            "0  One of the other reviewers has mentioned that ...  positive      1\n",
            "1  A wonderful little production. <br /><br />The...  positive      1\n",
            "2  I thought this was a wonderful way to spend ti...  positive      1\n",
            "3  Basically there's a family where a little boy ...  negative      0\n",
            "4  Petter Mattei's \"Love in the Time of Money\" is...  positive      1\n"
          ]
        }
      ],
      "source": [
        "# Map sentiment to numeric value: positive → 1, negative → 0\n",
        "df[\"value\"] = df[\"sentiment\"].map({\"positive\": 1, \"negative\": 0})\n",
        "\n",
        "# Preview\n",
        "print(df.head())"
      ]
    },
    {
      "cell_type": "code",
      "execution_count": 5,
      "metadata": {
        "colab": {
          "base_uri": "https://localhost:8080/"
        },
        "id": "EFDlHmzIR5vd",
        "outputId": "1dcf1330-b2c9-4256-b959-cce2c20cf599"
      },
      "outputs": [
        {
          "data": {
            "text/plain": [
              "(50000, 3)"
            ]
          },
          "execution_count": 5,
          "metadata": {},
          "output_type": "execute_result"
        }
      ],
      "source": [
        "df.shape"
      ]
    },
    {
      "cell_type": "code",
      "execution_count": 6,
      "metadata": {
        "colab": {
          "base_uri": "https://localhost:8080/"
        },
        "id": "cPqcbjFBR8oW",
        "outputId": "16213f3b-6084-4d50-cc8a-c3df6491b766"
      },
      "outputs": [
        {
          "name": "stdout",
          "output_type": "stream",
          "text": [
            "0    One of the other reviewers has mentioned that ...\n",
            "1    A wonderful little production. <br /><br />The...\n",
            "2    I thought this was a wonderful way to spend ti...\n",
            "3    Basically there's a family where a little boy ...\n",
            "4    Petter Mattei's \"Love in the Time of Money\" is...\n",
            "Name: review, dtype: object\n",
            "0    1\n",
            "1    1\n",
            "2    1\n",
            "3    0\n",
            "4    1\n",
            "Name: value, dtype: int64\n"
          ]
        }
      ],
      "source": [
        "# X = input text (reviews)\n",
        "X = df[\"review\"]\n",
        "\n",
        "# y = target labels (0 or 1)\n",
        "y = df[\"value\"]\n",
        "\n",
        "# Preview\n",
        "print(X.head())\n",
        "print(y.head())\n"
      ]
    },
    {
      "cell_type": "code",
      "execution_count": 7,
      "metadata": {
        "colab": {
          "base_uri": "https://localhost:8080/"
        },
        "id": "RrgZjzErSJad",
        "outputId": "42aa08fe-fbd6-477c-a801-14bc9158d870"
      },
      "outputs": [
        {
          "name": "stdout",
          "output_type": "stream",
          "text": [
            "(40000,) (40000,)\n",
            "(5000,) (5000,)\n",
            "(5000,) (5000,)\n"
          ]
        }
      ],
      "source": [
        "from sklearn.model_selection import train_test_split\n",
        "\n",
        "# 80% train, 10% validation, 10% test\n",
        "X_train, X_temp, y_train, y_temp = train_test_split(X, y, test_size=0.2, random_state=42)\n",
        "X_val, X_test, y_val, y_test = train_test_split(X_temp, y_temp, test_size=0.5, random_state=42)\n",
        "\n",
        "print(X_train.shape, y_train.shape)\n",
        "print(X_val.shape, y_val.shape)\n",
        "print(X_test.shape, y_test.shape)\n"
      ]
    },
    {
      "cell_type": "code",
      "execution_count": 8,
      "metadata": {
        "colab": {
          "base_uri": "https://localhost:8080/"
        },
        "id": "EjlrT0KqfdkT",
        "outputId": "7be84229-4b98-4c01-cc55-5aef7b5d56d0"
      },
      "outputs": [
        {
          "name": "stdout",
          "output_type": "stream",
          "text": [
            "Number of unique words: 390931\n"
          ]
        }
      ],
      "source": [
        "# Using a set to store unique words\n",
        "words = set()\n",
        "\n",
        "for raw in df['review']:\n",
        "    for word in raw.split():  # split text into words by spaces\n",
        "        words.add(word.lower())  # convert to lowercase to avoid duplicates\n",
        "\n",
        "print(f\"Number of unique words: {len(words)}\")\n"
      ]
    },
    {
      "cell_type": "code",
      "execution_count": 9,
      "metadata": {
        "colab": {
          "base_uri": "https://localhost:8080/"
        },
        "id": "qOHRV6saSa-L",
        "outputId": "0cb877de-9b16-411c-c29e-ec1eab19af55"
      },
      "outputs": [
        {
          "name": "stdout",
          "output_type": "stream",
          "text": [
            "Example sequence:\n",
            "[  198    49    11   802  2161   535   303     2   108  1908  2039  4325\n",
            "  6551     3   816  4845    13 22580     2 13694   228     2  6191    80\n",
            "   783    54    53    23   102     5     2    28  2010   103    37    26\n",
            "    35   120  1131    13    10     7  2367  1191     6   455    49   553\n",
            "     6    93    34    24    40   917   401 29671    16     2   167     6\n",
            "  2994    25 38444  4360    21     4  2946    13    46    76   222    74\n",
            "   127     9    82  3156   196    21   240     3     2   448     8     8\n",
            "    11   206  4983   145    22    64    28    16 14645    75   366   303\n",
            "     4    20    19    10   206    27   308    13 65052 43366    15     2\n",
            " 14999 10162   116   440     3 50894 50895    15     2  1705 11317   616\n",
            "    71   425   382    11    90   119    49   113]\n",
            "Vocab size: 112282\n"
          ]
        }
      ],
      "source": [
        "from tensorflow.keras.preprocessing.text import Tokenizer\n",
        "from tensorflow.keras.preprocessing.sequence import pad_sequences\n",
        "\n",
        "# Define constants\n",
        "MAX_LEN = 128      # same as in your model\n",
        "VOCAB_SIZE = 380000  # adjust depending on dataset size\n",
        "\n",
        "# Initialize tokenizer\n",
        "tokenizer = Tokenizer(num_words=VOCAB_SIZE, oov_token=\"<OOV>\")\n",
        "tokenizer.fit_on_texts(X_train)\n",
        "\n",
        "# Convert text → sequences of integers\n",
        "X_train_seq = tokenizer.texts_to_sequences(X_train)\n",
        "X_val_seq = tokenizer.texts_to_sequences(X_val)\n",
        "X_test_seq = tokenizer.texts_to_sequences(X_test)\n",
        "\n",
        "# Pad sequences so they all have the same length\n",
        "X_train_pad = pad_sequences(X_train_seq, maxlen=MAX_LEN, padding='post', truncating='post')\n",
        "X_val_pad = pad_sequences(X_val_seq, maxlen=MAX_LEN, padding='post', truncating='post')\n",
        "X_test_pad = pad_sequences(X_test_seq, maxlen=MAX_LEN, padding='post', truncating='post')\n",
        "\n",
        "print(f\"Example sequence:\\n{X_train_pad[0]}\")\n",
        "print(f\"Vocab size: {len(tokenizer.word_index) + 1}\")\n"
      ]
    },
    {
      "cell_type": "code",
      "execution_count": 10,
      "metadata": {
        "id": "xHOD5k37UFUp"
      },
      "outputs": [],
      "source": [
        "y_train = np.array(y_train)\n",
        "y_val = np.array(y_val)\n",
        "y_test = np.array(y_test)"
      ]
    },
    {
      "cell_type": "code",
      "execution_count": null,
      "metadata": {},
      "outputs": [],
      "source": [
        "\n"
      ]
    },
    {
      "cell_type": "code",
      "execution_count": 16,
      "metadata": {
        "id": "Ssv79xS5q2wc"
      },
      "outputs": [],
      "source": [
        "# ---------------------- 5. Positional Encoding Layer ----------------------\n",
        "class PositionalEncoding(layers.Layer):\n",
        "    def __init__(self, maxlen, d_model):\n",
        "        super().__init__()\n",
        "        self.maxlen = maxlen\n",
        "        self.d_model = d_model\n",
        "        self.pos_encoding = self.get_positional_encoding(maxlen, d_model)\n",
        "\n",
        "    def get_positional_encoding(self, seq_len, d_model):\n",
        "        positions = np.arange(seq_len)[:, np.newaxis]\n",
        "        dims = np.arange(d_model)[np.newaxis, :]\n",
        "        angle_rates = 1 / np.power(10000, (2 * (dims // 2)) / np.float32(d_model))\n",
        "        angle_rads = positions * angle_rates\n",
        "        pos_encoding = np.zeros((seq_len, d_model))\n",
        "        pos_encoding[:, 0::2] = np.sin(angle_rads[:, 0::2])\n",
        "        pos_encoding[:, 1::2] = np.cos(angle_rads[:, 1::2])\n",
        "        return tf.constant(pos_encoding[np.newaxis, ...], dtype=tf.float32)\n",
        "\n",
        "    def call(self, x):\n",
        "        seq_len = tf.shape(x)[1]\n",
        "        return x + self.pos_encoding[:, :seq_len, :]\n",
        "\n",
        "    def get_config(self):\n",
        "        config = super().get_config()\n",
        "        config.update({\n",
        "            \"maxlen\": self.maxlen,\n",
        "            \"d_model\": self.d_model\n",
        "        })\n",
        "        return config\n",
        "\n",
        "\n",
        "# ---------------------- 6. Multi-Head Attention ----------------------\n",
        "class MultiHeadAttention(layers.Layer):\n",
        "    def __init__(self, d_model, num_heads, **kwargs):\n",
        "        super().__init__(**kwargs)\n",
        "        assert d_model % num_heads == 0\n",
        "        self.num_heads = num_heads\n",
        "        self.depth = d_model // num_heads\n",
        "        self.Wq = layers.Dense(d_model)\n",
        "        self.Wk = layers.Dense(d_model)\n",
        "        self.Wv = layers.Dense(d_model)\n",
        "        self.dense = layers.Dense(d_model)\n",
        "\n",
        "    def split_heads(self, x, batch_size):\n",
        "        x = tf.reshape(x, (batch_size, -1, self.num_heads, self.depth))\n",
        "        return tf.transpose(x, [0, 2, 1, 3])\n",
        "\n",
        "    def call(self, q, k, v, mask=None):\n",
        "        batch_size = tf.shape(q)[0]\n",
        "        Q = self.split_heads(self.Wq(q), batch_size)\n",
        "        K = self.split_heads(self.Wk(k), batch_size)\n",
        "        V = self.split_heads(self.Wv(v), batch_size)\n",
        "        logits = tf.matmul(Q, K, transpose_b=True) / tf.math.sqrt(tf.cast(self.depth, tf.float32))\n",
        "        if mask is not None:\n",
        "            logits += (mask * -1e9)\n",
        "        weights = tf.nn.softmax(logits, axis=-1)\n",
        "        attention = tf.matmul(weights, V)\n",
        "        attention = tf.transpose(attention, [0, 2, 1, 3])\n",
        "        concat = tf.reshape(attention, (batch_size, -1, self.num_heads * self.depth))\n",
        "        return self.dense(concat)\n",
        "\n",
        "# ---------------------- 7. Encoder Block ----------------------\n",
        "class EncoderBlock(layers.Layer):\n",
        "    def __init__(self, d_model, num_heads, ff_dim, dropout=0.1, **kwargs):\n",
        "        super().__init__(**kwargs)\n",
        "        self.att = MultiHeadAttention(d_model, num_heads)\n",
        "        self.ffn = tf.keras.Sequential([\n",
        "            layers.Dense(ff_dim, activation='relu'),\n",
        "            layers.Dense(d_model)\n",
        "        ])\n",
        "        self.norm1 = layers.LayerNormalization(epsilon=1e-6)\n",
        "        self.norm2 = layers.LayerNormalization(epsilon=1e-6)\n",
        "        self.drop1 = layers.Dropout(dropout)\n",
        "        self.drop2 = layers.Dropout(dropout)\n",
        "\n",
        "    def call(self, x, training=False, mask=None):\n",
        "        attn = self.att(x, x, x, mask)\n",
        "        attn = self.drop1(attn, training=training)\n",
        "        out1 = self.norm1(x + attn)\n",
        "        ffn_out = self.ffn(out1)\n",
        "        ffn_out = self.drop2(ffn_out, training=training)\n",
        "        return self.norm2(out1 + ffn_out)\n",
        "\n",
        "# ---------------------- 8. Encoder ----------------------\n",
        "class Encoder(layers.Layer):\n",
        "    def __init__(self, num_layers, d_model, num_heads, ff_dim, vocab_size, maxlen, **kwargs):\n",
        "        super().__init__(**kwargs)\n",
        "        self.num_layers = num_layers\n",
        "        self.d_model = d_model\n",
        "        self.num_heads = num_heads\n",
        "        self.ff_dim = ff_dim\n",
        "        self.vocab_size = vocab_size\n",
        "        self.maxlen = maxlen\n",
        "        \n",
        "        self.embed = layers.Embedding(vocab_size, d_model, mask_zero=True)\n",
        "        self.pos_encoding = PositionalEncoding(maxlen, d_model)\n",
        "        self.layers_list = [EncoderBlock(d_model, num_heads, ff_dim) for _ in range(num_layers)]\n",
        "\n",
        "    def call(self, x, training=False, mask=None):\n",
        "        x = self.embed(x)\n",
        "        x = self.pos_encoding(x)\n",
        "        for layer in self.layers_list:\n",
        "            x = layer(x, training=training, mask=mask)\n",
        "        return x\n",
        "\n",
        "    def get_config(self):\n",
        "        config = super().get_config()\n",
        "        config.update({\n",
        "            \"num_layers\": self.num_layers,\n",
        "            \"d_model\": self.d_model,\n",
        "            \"num_heads\": self.num_heads,\n",
        "            \"ff_dim\": self.ff_dim,\n",
        "            \"vocab_size\": self.vocab_size,\n",
        "            \"maxlen\": self.maxlen\n",
        "        })\n",
        "        return config\n",
        "\n",
        "# ---------------------- 9. Build Model ----------------------\n",
        "def build_encoder_sentiment(vocab_size, maxlen, num_layers=2, d_model=64, num_heads=2, ff_dim=128):\n",
        "    inputs = layers.Input(shape=(maxlen,))\n",
        "    encoder = Encoder(num_layers, d_model, num_heads, ff_dim, vocab_size, maxlen)\n",
        "    enc_out = encoder(inputs)\n",
        "    pooled = layers.GlobalAveragePooling1D()(enc_out)  # Global average pooling\n",
        "    x = layers.Dense(64, activation='relu')(pooled)\n",
        "    x = layers.Dropout(0.2)(x)\n",
        "    outputs = layers.Dense(1, activation='sigmoid')(x)\n",
        "    model = Model(inputs, outputs)\n",
        "    return model"
      ]
    },
    {
      "cell_type": "code",
      "execution_count": 17,
      "metadata": {
        "colab": {
          "base_uri": "https://localhost:8080/",
          "height": 392
        },
        "id": "hEyx3fCmrIWt",
        "outputId": "2a057ab2-a887-427e-ae86-9dcb7063ff39"
      },
      "outputs": [
        {
          "name": "stdout",
          "output_type": "stream",
          "text": [
            "Model: \"model_1\"\n",
            "_________________________________________________________________\n",
            " Layer (type)                Output Shape              Param #   \n",
            "=================================================================\n",
            " input_2 (InputLayer)        [(None, 128)]             0         \n",
            "                                                                 \n",
            " encoder_1 (Encoder)         (None, 128, 64)           1346944   \n",
            "                                                                 \n",
            " global_average_pooling1d_1   (None, 64)               0         \n",
            " (GlobalAveragePooling1D)                                        \n",
            "                                                                 \n",
            " dense_26 (Dense)            (None, 64)                4160      \n",
            "                                                                 \n",
            " dropout_9 (Dropout)         (None, 64)                0         \n",
            "                                                                 \n",
            " dense_27 (Dense)            (None, 1)                 65        \n",
            "                                                                 \n",
            "=================================================================\n",
            "Total params: 1,351,169\n",
            "Trainable params: 1,351,169\n",
            "Non-trainable params: 0\n",
            "_________________________________________________________________\n"
          ]
        }
      ],
      "source": [
        "# ---------------------- 10. Compile & Train ----------------------\n",
        "model = build_encoder_sentiment(20000, MAX_LEN)\n",
        "model.compile(optimizer='adam', loss='binary_crossentropy', metrics=['accuracy'])\n",
        "model.summary()"
      ]
    },
    {
      "cell_type": "code",
      "execution_count": 18,
      "metadata": {
        "colab": {
          "base_uri": "https://localhost:8080/",
          "height": 1000
        },
        "id": "T5fGkIH5I3Lm",
        "outputId": "721855de-92f1-4921-f465-d0ef780c8a48"
      },
      "outputs": [
        {
          "data": {
            "image/png": "[encoded data removed]",
            "text/plain": [
              "<IPython.core.display.Image object>"
            ]
          },
          "execution_count": 18,
          "metadata": {},
          "output_type": "execute_result"
        }
      ],
      "source": [
        "from tensorflow.keras.utils import plot_model\n",
        "\n",
        "plot_model(\n",
        "    model,\n",
        "    to_file='model_architecture.png',\n",
        "    show_shapes=True,\n",
        "    show_layer_names=True,\n",
        "    expand_nested=True  # <-- this makes it show nested/custom layers\n",
        ")"
      ]
    },
    {
      "cell_type": "code",
      "execution_count": 19,
      "metadata": {
        "colab": {
          "base_uri": "https://localhost:8080/"
        },
        "id": "9sYtA9ZvUnvT",
        "outputId": "c6c46385-3d11-4bc6-9a3c-e52124853ef8"
      },
      "outputs": [
        {
          "name": "stdout",
          "output_type": "stream",
          "text": [
            "Epoch 1/500\n",
            "1247/1250 [============================>.] - ETA: 0s - loss: 0.6595 - accuracy: 0.5557\n",
            "Epoch 1: val_accuracy improved from -inf to 0.83120, saving model to best_model.h5\n",
            "1250/1250 [==============================] - 14s 10ms/step - loss: 0.6588 - accuracy: 0.5564 - val_loss: 0.4009 - val_accuracy: 0.8312 - lr: 0.0010\n",
            "Epoch 2/500\n",
            "1247/1250 [============================>.] - ETA: 0s - loss: 0.3384 - accuracy: 0.8556\n",
            "Epoch 2: val_accuracy improved from 0.83120 to 0.84500, saving model to best_model.h5\n",
            "1250/1250 [==============================] - 13s 10ms/step - loss: 0.3383 - accuracy: 0.8557 - val_loss: 0.3742 - val_accuracy: 0.8450 - lr: 0.0010\n",
            "Epoch 3/500\n",
            "1246/1250 [============================>.] - ETA: 0s - loss: 0.2418 - accuracy: 0.9046\n",
            "Epoch 3: val_accuracy improved from 0.84500 to 0.85820, saving model to best_model.h5\n",
            "1250/1250 [==============================] - 13s 10ms/step - loss: 0.2417 - accuracy: 0.9046 - val_loss: 0.3613 - val_accuracy: 0.8582 - lr: 0.0010\n",
            "Epoch 4/500\n",
            "1248/1250 [============================>.] - ETA: 0s - loss: 0.1821 - accuracy: 0.9319\n",
            "Epoch 4: val_accuracy did not improve from 0.85820\n",
            "1250/1250 [==============================] - 13s 10ms/step - loss: 0.1819 - accuracy: 0.9320 - val_loss: 0.3761 - val_accuracy: 0.8508 - lr: 0.0010\n",
            "Epoch 5/500\n",
            "1249/1250 [============================>.] - ETA: 0s - loss: 0.1342 - accuracy: 0.9517\n",
            "Epoch 5: val_accuracy did not improve from 0.85820\n",
            "1250/1250 [==============================] - 14s 11ms/step - loss: 0.1342 - accuracy: 0.9518 - val_loss: 0.4026 - val_accuracy: 0.8488 - lr: 0.0010\n",
            "Epoch 6/500\n",
            "1250/1250 [==============================] - ETA: 0s - loss: 0.1146 - accuracy: 0.9597\n",
            "Epoch 6: val_accuracy did not improve from 0.85820\n",
            "\n",
            "Epoch 6: ReduceLROnPlateau reducing learning rate to 0.0005000000237487257.\n",
            "1250/1250 [==============================] - 12s 10ms/step - loss: 0.1146 - accuracy: 0.9597 - val_loss: 0.4985 - val_accuracy: 0.8274 - lr: 0.0010\n",
            "Epoch 7/500\n",
            "1249/1250 [============================>.] - ETA: 0s - loss: 0.0790 - accuracy: 0.9744\n",
            "Epoch 7: val_accuracy did not improve from 0.85820\n",
            "1250/1250 [==============================] - 13s 10ms/step - loss: 0.0790 - accuracy: 0.9744 - val_loss: 0.6532 - val_accuracy: 0.8324 - lr: 5.0000e-04\n",
            "Epoch 8/500\n",
            "1245/1250 [============================>.] - ETA: 0s - loss: 0.0588 - accuracy: 0.9830\n",
            "Epoch 8: val_accuracy did not improve from 0.85820\n",
            "Restoring model weights from the end of the best epoch: 3.\n",
            "1250/1250 [==============================] - 14s 11ms/step - loss: 0.0587 - accuracy: 0.9830 - val_loss: 0.6515 - val_accuracy: 0.8350 - lr: 5.0000e-04\n",
            "Epoch 8: early stopping\n"
          ]
        }
      ],
      "source": [
        "from tensorflow.keras.callbacks import ModelCheckpoint, EarlyStopping, ReduceLROnPlateau\n",
        "\n",
        "# ---------------------- Callbacks ----------------------\n",
        "checkpoint_cb = ModelCheckpoint(\n",
        "    \"best_model.h5\",            # save file\n",
        "    monitor=\"val_accuracy\",     # metric to monitor\n",
        "    save_best_only=True,        # only save best model\n",
        "    mode=\"max\",\n",
        "    verbose=1\n",
        ")\n",
        "\n",
        "earlystop_cb = EarlyStopping(\n",
        "    monitor=\"val_accuracy\",     # metric to monitor\n",
        "    patience=5,                 # wait 5 epochs before stopping\n",
        "    restore_best_weights=True,  # restore model from best epoch\n",
        "    verbose=1\n",
        ")\n",
        "\n",
        "reduce_lr_cb = ReduceLROnPlateau(\n",
        "    monitor=\"val_loss\",         # reduce LR if val_loss stops improving\n",
        "    factor=0.5,                 # multiply LR by 0.5\n",
        "    patience=3,                 # wait 3 epochs\n",
        "    min_lr=1e-6,                # minimum learning rate\n",
        "    verbose=1\n",
        ")\n",
        "\n",
        "callbacks = [checkpoint_cb, earlystop_cb, reduce_lr_cb]\n",
        "\n",
        "# ---------------------- Train the model ----------------------\n",
        "history = model.fit(\n",
        "    X_train_pad, y_train,\n",
        "    validation_data=(X_val_pad, y_val),\n",
        "    epochs=500,\n",
        "    batch_size=32,\n",
        "    callbacks=callbacks\n",
        ")\n"
      ]
    },
    {
      "cell_type": "code",
      "execution_count": 20,
      "metadata": {
        "colab": {
          "base_uri": "https://localhost:8080/"
        },
        "id": "CN53IZpSU2bc",
        "outputId": "c5387714-4617-44ad-851f-656176fa0532"
      },
      "outputs": [
        {
          "name": "stdout",
          "output_type": "stream",
          "text": [
            "157/157 [==============================] - 1s 6ms/step - loss: 0.3496 - accuracy: 0.8610\n",
            "Test Accuracy: 0.8610\n"
          ]
        }
      ],
      "source": [
        "loss, acc = model.evaluate(X_test_pad, y_test)\n",
        "print(f\"Test Accuracy: {acc:.4f}\")"
      ]
    },
    {
      "cell_type": "code",
      "execution_count": 21,
      "metadata": {
        "colab": {
          "base_uri": "https://localhost:8080/"
        },
        "id": "58_IG0PU0IU-",
        "outputId": "0716066e-e3ad-4cc2-e627-44c0b8fed554"
      },
      "outputs": [
        {
          "name": "stdout",
          "output_type": "stream",
          "text": [
            "1250/1250 [==============================] - 9s 7ms/step - loss: 0.1526 - accuracy: 0.9469\n",
            "Test Accuracy: 0.9469\n"
          ]
        }
      ],
      "source": [
        "loss, acc = model.evaluate(X_train_pad, y_train)\n",
        "print(f\"Test Accuracy: {acc:.4f}\")"
      ]
    },
    {
      "cell_type": "code",
      "execution_count": 22,
      "metadata": {
        "colab": {
          "base_uri": "https://localhost:8080/"
        },
        "id": "QPfGDgTS0O6U",
        "outputId": "1a0731af-bd29-4bb2-c1f5-308922d42b5d"
      },
      "outputs": [
        {
          "name": "stdout",
          "output_type": "stream",
          "text": [
            "157/157 [==============================] - 1s 9ms/step - loss: 0.3613 - accuracy: 0.8582\n",
            "Test Accuracy: 0.8582\n"
          ]
        }
      ],
      "source": [
        "loss, acc = model.evaluate(X_val_pad, y_val)\n",
        "print(f\"Test Accuracy: {acc:.4f}\")"
      ]
    },
    {
      "cell_type": "code",
      "execution_count": 23,
      "metadata": {
        "colab": {
          "base_uri": "https://localhost:8080/",
          "height": 477
        },
        "id": "b1-gc9IFzSNv",
        "outputId": "3f33ac4c-ce44-444e-c0fa-6d274f05b740"
      },
      "outputs": [
        {
          "name": "stdout",
          "output_type": "stream",
          "text": [
            "\n",
            "Model loaded successfully!\n",
            "Model: \"model_1\"\n",
            "_________________________________________________________________\n",
            " Layer (type)                Output Shape              Param #   \n",
            "=================================================================\n",
            " input_2 (InputLayer)        [(None, 128)]             0         \n",
            "                                                                 \n",
            " encoder_1 (Encoder)         (None, 128, 64)           1346944   \n",
            "                                                                 \n",
            " global_average_pooling1d_1   (None, 64)               0         \n",
            " (GlobalAveragePooling1D)                                        \n",
            "                                                                 \n",
            " dense_26 (Dense)            (None, 64)                4160      \n",
            "                                                                 \n",
            " dropout_9 (Dropout)         (None, 64)                0         \n",
            "                                                                 \n",
            " dense_27 (Dense)            (None, 1)                 65        \n",
            "                                                                 \n",
            "=================================================================\n",
            "Total params: 1,351,169\n",
            "Trainable params: 1,351,169\n",
            "Non-trainable params: 0\n",
            "_________________________________________________________________\n"
          ]
        }
      ],
      "source": [
        "# Save in HDF5 format\n",
        "model.save(\"Transformer_Sentiment_Model.h5\")\n",
        "\n",
        "# OR save in native Keras format\n",
        "model.save(\"Transformer_Sentiment_Model.keras\")\n",
        "\n",
        "# Load the model\n",
        "loaded_model = tf.keras.models.load_model(\n",
        "    \"Transformer_Sentiment_Model.h5\",\n",
        "    custom_objects={\n",
        "        \"Encoder\": Encoder,\n",
        "        \"EncoderBlock\": EncoderBlock,\n",
        "        \"MultiHeadAttention\": MultiHeadAttention,\n",
        "        \"PositionalEncoding\": PositionalEncoding\n",
        "    }\n",
        ")\n",
        "\n",
        "print(\"\\nModel loaded successfully!\")\n",
        "loaded_model.summary()\n"
      ]
    },
    {
      "cell_type": "code",
      "execution_count": 24,
      "metadata": {
        "colab": {
          "base_uri": "https://localhost:8080/",
          "height": 1000
        },
        "id": "GCATDgNhJkBi",
        "outputId": "34298b2e-9d0e-41d5-8bb5-27d488606336"
      },
      "outputs": [
        {
          "name": "stdout",
          "output_type": "stream",
          "text": [
            "1250/1250 [==============================] - 4s 3ms/step\n",
            "157/157 [==============================] - 1s 5ms/step\n",
            "157/157 [==============================] - 1s 5ms/step\n"
          ]
        },
        {
          "data": {
            "image/png": "[encoded data removed]",
            "text/plain": [
              "<Figure size 600x500 with 2 Axes>"
            ]
          },
          "metadata": {},
          "output_type": "display_data"
        },
        {
          "name": "stdout",
          "output_type": "stream",
          "text": [
            "\n",
            "--- Train Set Classification Report ---\n",
            "              precision    recall  f1-score   support\n",
            "\n",
            "Negative (0)       0.94      0.95      0.95     20039\n",
            "Positive (1)       0.95      0.94      0.95     19961\n",
            "\n",
            "    accuracy                           0.95     40000\n",
            "   macro avg       0.95      0.95      0.95     40000\n",
            "weighted avg       0.95      0.95      0.95     40000\n",
            "\n"
          ]
        },
        {
          "data": {
            "image/png": "[encoded data removed]",
            "text/plain": [
              "<Figure size 600x500 with 2 Axes>"
            ]
          },
          "metadata": {},
          "output_type": "display_data"
        },
        {
          "name": "stdout",
          "output_type": "stream",
          "text": [
            "\n",
            "--- Validation Set Classification Report ---\n",
            "              precision    recall  f1-score   support\n",
            "\n",
            "Negative (0)       0.86      0.86      0.86      2499\n",
            "Positive (1)       0.86      0.86      0.86      2501\n",
            "\n",
            "    accuracy                           0.86      5000\n",
            "   macro avg       0.86      0.86      0.86      5000\n",
            "weighted avg       0.86      0.86      0.86      5000\n",
            "\n"
          ]
        },
        {
          "data": {
            "image/png": "[encoded data removed]",
            "text/plain": [
              "<Figure size 600x500 with 2 Axes>"
            ]
          },
          "metadata": {},
          "output_type": "display_data"
        },
        {
          "name": "stdout",
          "output_type": "stream",
          "text": [
            "\n",
            "--- Test Set Classification Report ---\n",
            "              precision    recall  f1-score   support\n",
            "\n",
            "Negative (0)       0.86      0.86      0.86      2462\n",
            "Positive (1)       0.86      0.86      0.86      2538\n",
            "\n",
            "    accuracy                           0.86      5000\n",
            "   macro avg       0.86      0.86      0.86      5000\n",
            "weighted avg       0.86      0.86      0.86      5000\n",
            "\n"
          ]
        }
      ],
      "source": [
        "import matplotlib.pyplot as plt\n",
        "import seaborn as sns\n",
        "from sklearn.metrics import confusion_matrix, classification_report\n",
        "\n",
        "def plot_confusion_heatmap(y_true, y_pred, dataset_name):\n",
        "    cm = confusion_matrix(y_true, y_pred)\n",
        "    classes = ['Negative (0)', 'Positive (1)']\n",
        "    plt.figure(figsize=(6, 5))\n",
        "    sns.heatmap(cm, annot=True, fmt='d', cmap='Blues', xticklabels=classes, yticklabels=classes)\n",
        "    plt.title(f\"{dataset_name} Confusion Matrix\")\n",
        "    plt.xlabel(\"Predicted Labels\")\n",
        "    plt.ylabel(\"True Labels\")\n",
        "    plt.show()\n",
        "    print(f\"\\n--- {dataset_name} Classification Report ---\")\n",
        "    print(classification_report(y_true, y_pred, target_names=classes))\n",
        "\n",
        "# Get predictions\n",
        "y_train_pred = (loaded_model.predict(X_train_pad) > 0.5).astype(int).flatten()\n",
        "y_val_pred   = (loaded_model.predict(X_val_pad) > 0.5).astype(int).flatten()\n",
        "y_test_pred  = (loaded_model.predict(X_test_pad) > 0.5).astype(int).flatten()\n",
        "\n",
        "# Plot confusion matrices\n",
        "plot_confusion_heatmap(y_train, y_train_pred, \"Train Set\")\n",
        "plot_confusion_heatmap(y_val, y_val_pred, \"Validation Set\")\n",
        "plot_confusion_heatmap(y_test, y_test_pred, \"Test Set\")\n"
      ]
    },
    {
      "cell_type": "code",
      "execution_count": null,
      "metadata": {},
      "outputs": [],
      "source": []
    }
  ],
  "metadata": {
    "accelerator": "GPU",
    "colab": {
      "gpuType": "T4",
      "provenance": []
    },
    "kernelspec": {
      "display_name": "tf-env",
      "language": "python",
      "name": "python3"
    },
    "language_info": {
      "codemirror_mode": {
        "name": "ipython",
        "version": 3
      },
      "file_extension": ".py",
      "mimetype": "text/x-python",
      "name": "python",
      "nbconvert_exporter": "python",
      "pygments_lexer": "ipython3",
      "version": "3.8.20"
    }
  },
  "nbformat": 4,
  "nbformat_minor": 0
}
